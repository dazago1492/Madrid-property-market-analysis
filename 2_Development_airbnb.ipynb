{
 "cells": [
  {
   "cell_type": "markdown",
   "id": "5a56de1d",
   "metadata": {
    "toc": true
   },
   "source": [
    "<h1>Table of Contents<span class=\"tocSkip\"></span></h1>\n",
    "<div class=\"toc\"><ul class=\"toc-item\"><li><span><a href=\"#DATA-PREPARATION\" data-toc-modified-id=\"DATA-PREPARATION-1\"><span class=\"toc-item-num\">1&nbsp;&nbsp;</span>DATA PREPARATION</a></span><ul class=\"toc-item\"><li><span><a href=\"#Set-up\" data-toc-modified-id=\"Set-up-1.1\"><span class=\"toc-item-num\">1.1&nbsp;&nbsp;</span>Set up</a></span></li><li><span><a href=\"#Data-loading\" data-toc-modified-id=\"Data-loading-1.2\"><span class=\"toc-item-num\">1.2&nbsp;&nbsp;</span>Data loading</a></span></li><li><span><a href=\"#PREPARATION-OF-VARIABLES\" data-toc-modified-id=\"PREPARATION-OF-VARIABLES-1.3\"><span class=\"toc-item-num\">1.3&nbsp;&nbsp;</span>PREPARATION OF VARIABLES</a></span><ul class=\"toc-item\"><li><span><a href=\"#Creation-of-KPIS-of-the-levers\" data-toc-modified-id=\"Creation-of-KPIS-of-the-levers-1.3.1\"><span class=\"toc-item-num\">1.3.1&nbsp;&nbsp;</span>Creation of KPIS of the levers</a></span></li><li><span><a href=\"#Transformation-of-analysis-variables\" data-toc-modified-id=\"Transformation-of-analysis-variables-1.3.2\"><span class=\"toc-item-num\">1.3.2&nbsp;&nbsp;</span>Transformation of analysis variables</a></span></li><li><span><a href=\"#Creation-of-variables-with-external-data\" data-toc-modified-id=\"Creation-of-variables-with-external-data-1.3.3\"><span class=\"toc-item-num\">1.3.3&nbsp;&nbsp;</span>Creation of variables with external data</a></span></li></ul></li><li><span><a href=\"#WE-SAVE-THE-DATAMART\" data-toc-modified-id=\"WE-SAVE-THE-DATAMART-1.4\"><span class=\"toc-item-num\">1.4&nbsp;&nbsp;</span>WE SAVE THE DATAMART</a></span></li></ul></li></ul></div>"
   ]
  },
  {
   "cell_type": "markdown",
   "id": "d3a56ee1",
   "metadata": {},
   "source": [
    "# DATA PREPARATION"
   ]
  },
  {
   "cell_type": "markdown",
   "id": "195cd8b9",
   "metadata": {},
   "source": [
    "In this phase we are going to create new variables or transform the existing ones in order to give a better answer to our objective.\n",
    "\n",
    "We will give examples both of how to use internal variables and how to enrich them with external variables."
   ]
  },
  {
   "cell_type": "markdown",
   "id": "fc1138d0",
   "metadata": {},
   "source": [
    "## Set up"
   ]
  },
  {
   "cell_type": "code",
   "execution_count": 1,
   "id": "124bccf1",
   "metadata": {},
   "outputs": [],
   "source": [
    "import numpy as np\n",
    "import pandas as pd\n",
    "import matplotlib.pyplot as plt\n",
    "%matplotlib inline\n",
    "import seaborn as sns\n",
    "import sqlalchemy as sa\n",
    "\n",
    "%config IPCompleter.greedy = True"
   ]
  },
  {
   "cell_type": "markdown",
   "id": "a7ca6bc4",
   "metadata": {},
   "source": [
    "## Data loading"
   ]
  },
  {
   "cell_type": "markdown",
   "id": "30cd5bc0",
   "metadata": {},
   "source": [
    "Create the database connection"
   ]
  },
  {
   "cell_type": "code",
   "execution_count": 2,
   "id": "3ef878c1",
   "metadata": {},
   "outputs": [],
   "source": [
    "con = sa.create_engine('sqlite:///../Datos/airbnb.db')\n",
    "\n",
    "df = pd.read_sql('df', con = con)"
   ]
  },
  {
   "cell_type": "code",
   "execution_count": 3,
   "id": "466f3f88",
   "metadata": {
    "scrolled": true
   },
   "outputs": [
    {
     "data": {
      "text/html": [
       "<div>\n",
       "<style scoped>\n",
       "    .dataframe tbody tr th:only-of-type {\n",
       "        vertical-align: middle;\n",
       "    }\n",
       "\n",
       "    .dataframe tbody tr th {\n",
       "        vertical-align: top;\n",
       "    }\n",
       "\n",
       "    .dataframe thead th {\n",
       "        text-align: right;\n",
       "    }\n",
       "</style>\n",
       "<table border=\"1\" class=\"dataframe\">\n",
       "  <thead>\n",
       "    <tr style=\"text-align: right;\">\n",
       "      <th></th>\n",
       "      <th>index</th>\n",
       "      <th>id</th>\n",
       "      <th>name</th>\n",
       "      <th>host_id</th>\n",
       "      <th>neighbourhood_group</th>\n",
       "      <th>neighbourhood</th>\n",
       "      <th>latitude</th>\n",
       "      <th>longitude</th>\n",
       "      <th>room_type</th>\n",
       "      <th>price</th>\n",
       "      <th>...</th>\n",
       "      <th>host_is_superhost</th>\n",
       "      <th>accommodates</th>\n",
       "      <th>bedrooms</th>\n",
       "      <th>beds</th>\n",
       "      <th>number_of_reviews</th>\n",
       "      <th>review_scores_rating</th>\n",
       "      <th>review_scores_communication</th>\n",
       "      <th>review_scores_location</th>\n",
       "      <th>precio_m2</th>\n",
       "      <th>distrito</th>\n",
       "    </tr>\n",
       "  </thead>\n",
       "  <tbody>\n",
       "    <tr>\n",
       "      <th>0</th>\n",
       "      <td>0</td>\n",
       "      <td>6369</td>\n",
       "      <td>Rooftop terrace room ,  ensuite bathroom</td>\n",
       "      <td>13660</td>\n",
       "      <td>Chamartín</td>\n",
       "      <td>Hispanoamérica</td>\n",
       "      <td>40.45724</td>\n",
       "      <td>-3.67688</td>\n",
       "      <td>Private room</td>\n",
       "      <td>60</td>\n",
       "      <td>...</td>\n",
       "      <td>t</td>\n",
       "      <td>2</td>\n",
       "      <td>1.0</td>\n",
       "      <td>1.0</td>\n",
       "      <td>80</td>\n",
       "      <td>4.87</td>\n",
       "      <td>4.89</td>\n",
       "      <td>4.77</td>\n",
       "      <td>5098</td>\n",
       "      <td>Chamartín</td>\n",
       "    </tr>\n",
       "    <tr>\n",
       "      <th>1</th>\n",
       "      <td>1</td>\n",
       "      <td>21853</td>\n",
       "      <td>Bright and airy room</td>\n",
       "      <td>83531</td>\n",
       "      <td>Latina</td>\n",
       "      <td>Cármenes</td>\n",
       "      <td>40.40381</td>\n",
       "      <td>-3.74130</td>\n",
       "      <td>Private room</td>\n",
       "      <td>31</td>\n",
       "      <td>...</td>\n",
       "      <td>f</td>\n",
       "      <td>1</td>\n",
       "      <td>1.0</td>\n",
       "      <td>1.0</td>\n",
       "      <td>33</td>\n",
       "      <td>4.58</td>\n",
       "      <td>4.82</td>\n",
       "      <td>4.21</td>\n",
       "      <td>2267</td>\n",
       "      <td>Latina</td>\n",
       "    </tr>\n",
       "    <tr>\n",
       "      <th>2</th>\n",
       "      <td>2</td>\n",
       "      <td>23001</td>\n",
       "      <td>Apartmento Arganzuela- Madrid Rio</td>\n",
       "      <td>82175</td>\n",
       "      <td>Arganzuela</td>\n",
       "      <td>Legazpi</td>\n",
       "      <td>40.38840</td>\n",
       "      <td>-3.69511</td>\n",
       "      <td>Entire home/apt</td>\n",
       "      <td>50</td>\n",
       "      <td>...</td>\n",
       "      <td>f</td>\n",
       "      <td>6</td>\n",
       "      <td>3.0</td>\n",
       "      <td>5.0</td>\n",
       "      <td>0</td>\n",
       "      <td>NaN</td>\n",
       "      <td>NaN</td>\n",
       "      <td>NaN</td>\n",
       "      <td>4085</td>\n",
       "      <td>Arganzuela</td>\n",
       "    </tr>\n",
       "    <tr>\n",
       "      <th>3</th>\n",
       "      <td>3</td>\n",
       "      <td>24805</td>\n",
       "      <td>Gran Via Studio Madrid</td>\n",
       "      <td>346366726</td>\n",
       "      <td>Centro</td>\n",
       "      <td>Universidad</td>\n",
       "      <td>40.42183</td>\n",
       "      <td>-3.70529</td>\n",
       "      <td>Entire home/apt</td>\n",
       "      <td>92</td>\n",
       "      <td>...</td>\n",
       "      <td>f</td>\n",
       "      <td>3</td>\n",
       "      <td>1.0</td>\n",
       "      <td>1.0</td>\n",
       "      <td>12</td>\n",
       "      <td>4.92</td>\n",
       "      <td>5.00</td>\n",
       "      <td>5.00</td>\n",
       "      <td>4827</td>\n",
       "      <td>Centro</td>\n",
       "    </tr>\n",
       "    <tr>\n",
       "      <th>4</th>\n",
       "      <td>4</td>\n",
       "      <td>26825</td>\n",
       "      <td>Single Room whith private Bathroom</td>\n",
       "      <td>114340</td>\n",
       "      <td>Arganzuela</td>\n",
       "      <td>Legazpi</td>\n",
       "      <td>40.38975</td>\n",
       "      <td>-3.69018</td>\n",
       "      <td>Private room</td>\n",
       "      <td>26</td>\n",
       "      <td>...</td>\n",
       "      <td>f</td>\n",
       "      <td>1</td>\n",
       "      <td>1.0</td>\n",
       "      <td>1.0</td>\n",
       "      <td>149</td>\n",
       "      <td>4.68</td>\n",
       "      <td>4.71</td>\n",
       "      <td>4.70</td>\n",
       "      <td>4085</td>\n",
       "      <td>Arganzuela</td>\n",
       "    </tr>\n",
       "  </tbody>\n",
       "</table>\n",
       "<p>5 rows × 24 columns</p>\n",
       "</div>"
      ],
      "text/plain": [
       "   index     id                                      name    host_id  \\\n",
       "0      0   6369  Rooftop terrace room ,  ensuite bathroom      13660   \n",
       "1      1  21853                      Bright and airy room      83531   \n",
       "2      2  23001         Apartmento Arganzuela- Madrid Rio      82175   \n",
       "3      3  24805                    Gran Via Studio Madrid  346366726   \n",
       "4      4  26825        Single Room whith private Bathroom     114340   \n",
       "\n",
       "  neighbourhood_group   neighbourhood  latitude  longitude        room_type  \\\n",
       "0           Chamartín  Hispanoamérica  40.45724   -3.67688     Private room   \n",
       "1              Latina        Cármenes  40.40381   -3.74130     Private room   \n",
       "2          Arganzuela         Legazpi  40.38840   -3.69511  Entire home/apt   \n",
       "3              Centro     Universidad  40.42183   -3.70529  Entire home/apt   \n",
       "4          Arganzuela         Legazpi  40.38975   -3.69018     Private room   \n",
       "\n",
       "   price  ...  host_is_superhost  accommodates  bedrooms beds  \\\n",
       "0     60  ...                  t             2       1.0  1.0   \n",
       "1     31  ...                  f             1       1.0  1.0   \n",
       "2     50  ...                  f             6       3.0  5.0   \n",
       "3     92  ...                  f             3       1.0  1.0   \n",
       "4     26  ...                  f             1       1.0  1.0   \n",
       "\n",
       "  number_of_reviews  review_scores_rating  review_scores_communication  \\\n",
       "0                80                  4.87                         4.89   \n",
       "1                33                  4.58                         4.82   \n",
       "2                 0                   NaN                          NaN   \n",
       "3                12                  4.92                         5.00   \n",
       "4               149                  4.68                         4.71   \n",
       "\n",
       "   review_scores_location  precio_m2    distrito  \n",
       "0                    4.77       5098   Chamartín  \n",
       "1                    4.21       2267      Latina  \n",
       "2                     NaN       4085  Arganzuela  \n",
       "3                    5.00       4827      Centro  \n",
       "4                    4.70       4085  Arganzuela  \n",
       "\n",
       "[5 rows x 24 columns]"
      ]
     },
     "execution_count": 3,
     "metadata": {},
     "output_type": "execute_result"
    }
   ],
   "source": [
    "df.head()"
   ]
  },
  {
   "cell_type": "markdown",
   "id": "9bd32001",
   "metadata": {},
   "source": [
    "## PREPARATION OF VARIABLES"
   ]
  },
  {
   "cell_type": "markdown",
   "id": "70453999",
   "metadata": {},
   "source": [
    "### Creation of KPIS of the levers\n",
    "\n",
    "First we are going to create the analysis variables, i.e. those that we had identified as the KPIs that we will use in the levers that influence the business.\n",
    "\n",
    "We had said that there were 3:\n",
    "\n",
    "* price per night: we already have this one directly in the price variable, but let's review it to see that we understand it well.\n",
    "* occupancy: we have availability_365 but we have to transform it.\n",
    "* price of the property: this we will have to create it with external variables so we leave it for later."
   ]
  },
  {
   "cell_type": "markdown",
   "id": "a802bbc1",
   "metadata": {},
   "source": [
    "**Let's start with the price.**\n",
    "\n",
    "The documentation does not clarify if the price is for the entire property, or if in the case of renting a room it is per room.\n",
    "\n",
    "It is a key data to be able to make the valuation of the potential income of a property.\n",
    "\n",
    "Let's try to understand it by analyzing the average price by type of rental.\n",
    "\n",
    "It is important to filter by only one district in order not to include the \"zone\" effect.\n",
    "\n",
    "So first we choose a district that has a lot of data."
   ]
  },
  {
   "cell_type": "code",
   "execution_count": 4,
   "id": "181b667a",
   "metadata": {},
   "outputs": [
    {
     "data": {
      "text/plain": [
       "Centro                   8127\n",
       "Salamanca                1218\n",
       "Chamberí                 1089\n",
       "Arganzuela               1005\n",
       "Tetuán                    762\n",
       "Retiro                    618\n",
       "Carabanchel               581\n",
       "Chamartín                 538\n",
       "Ciudad Lineal             532\n",
       "Moncloa - Aravaca         493\n",
       "Puente de Vallecas        465\n",
       "San Blas - Canillejas     463\n",
       "Latina                    455\n",
       "Hortaleza                 354\n",
       "Fuencarral - El Pardo     265\n",
       "Usera                     233\n",
       "Barajas                   142\n",
       "Villaverde                129\n",
       "Moratalaz                  94\n",
       "Villa de Vallecas          90\n",
       "Vicálvaro                  57\n",
       "Name: distrito, dtype: int64"
      ]
     },
     "execution_count": 4,
     "metadata": {},
     "output_type": "execute_result"
    }
   ],
   "source": [
    "df.distrito.value_counts()"
   ]
  },
  {
   "cell_type": "code",
   "execution_count": 5,
   "id": "c834679b",
   "metadata": {
    "scrolled": true
   },
   "outputs": [
    {
     "data": {
      "text/plain": [
       "room_type\n",
       "Entire home/apt    148.859980\n",
       "Private room        67.131643\n",
       "Shared room         60.464286\n",
       "Name: price, dtype: float64"
      ]
     },
     "execution_count": 5,
     "metadata": {},
     "output_type": "execute_result"
    }
   ],
   "source": [
    "df.loc[df['distrito'] == 'Centro',:].groupby('room_type')['price'].mean()"
   ]
  },
  {
   "cell_type": "markdown",
   "id": "e18e3361",
   "metadata": {},
   "source": [
    "Conclusion:\n",
    "    \n",
    "* renting the apartment has an average price of 148€.\n",
    "* renting a room has an average price of 60€ or 67€ depending on whether it is a shared or private room\n",
    "* therefore to calculate the \"income\" of a property we should multiply the price by the number of rooms when it is a Private room or Shared room."
   ]
  },
  {
   "cell_type": "markdown",
   "id": "b5703213",
   "metadata": {},
   "source": [
    "However, multiplying the price by the total number of rooms can artificially skew a property's earning capacity upwards.\n",
    "\n",
    "Since if it is rented by rooms, it is not likely to be always at 100%.\n",
    "\n",
    "Therefore we should weight it by the average percentage of rooms rented.\n",
    "\n",
    "We do not have that data, but let's assume that we have talked to the business manager and he has told us that it is 70%.\n",
    "\n",
    "We can create the total price variable by applying apply on a custom function."
   ]
  },
  {
   "cell_type": "code",
   "execution_count": 6,
   "id": "0b4012a1",
   "metadata": {},
   "outputs": [],
   "source": [
    "def create_total_price(register):\n",
    "    if (register['beds'] > 1) & ((register['room_type'] == 'Private room') | (register['room_type'] == 'Shared room')):\n",
    "        output = register['price'] * register['beds'] * 0.7\n",
    "    else:\n",
    "        output = register['price']\n",
    "    return (output)\n",
    "df['total_price'] = df.apply(create_total_price, axis = 1)"
   ]
  },
  {
   "cell_type": "markdown",
   "id": "61ad4d85",
   "metadata": {},
   "source": [
    "We check"
   ]
  },
  {
   "cell_type": "code",
   "execution_count": 7,
   "id": "f458d702",
   "metadata": {
    "scrolled": true
   },
   "outputs": [
    {
     "data": {
      "text/html": [
       "<div>\n",
       "<style scoped>\n",
       "    .dataframe tbody tr th:only-of-type {\n",
       "        vertical-align: middle;\n",
       "    }\n",
       "\n",
       "    .dataframe tbody tr th {\n",
       "        vertical-align: top;\n",
       "    }\n",
       "\n",
       "    .dataframe thead th {\n",
       "        text-align: right;\n",
       "    }\n",
       "</style>\n",
       "<table border=\"1\" class=\"dataframe\">\n",
       "  <thead>\n",
       "    <tr style=\"text-align: right;\">\n",
       "      <th></th>\n",
       "      <th>room_type</th>\n",
       "      <th>price</th>\n",
       "      <th>beds</th>\n",
       "      <th>total_price</th>\n",
       "    </tr>\n",
       "  </thead>\n",
       "  <tbody>\n",
       "    <tr>\n",
       "      <th>0</th>\n",
       "      <td>Private room</td>\n",
       "      <td>60</td>\n",
       "      <td>1.0</td>\n",
       "      <td>60.0</td>\n",
       "    </tr>\n",
       "    <tr>\n",
       "      <th>1</th>\n",
       "      <td>Private room</td>\n",
       "      <td>31</td>\n",
       "      <td>1.0</td>\n",
       "      <td>31.0</td>\n",
       "    </tr>\n",
       "    <tr>\n",
       "      <th>2</th>\n",
       "      <td>Entire home/apt</td>\n",
       "      <td>50</td>\n",
       "      <td>5.0</td>\n",
       "      <td>50.0</td>\n",
       "    </tr>\n",
       "    <tr>\n",
       "      <th>3</th>\n",
       "      <td>Entire home/apt</td>\n",
       "      <td>92</td>\n",
       "      <td>1.0</td>\n",
       "      <td>92.0</td>\n",
       "    </tr>\n",
       "    <tr>\n",
       "      <th>4</th>\n",
       "      <td>Private room</td>\n",
       "      <td>26</td>\n",
       "      <td>1.0</td>\n",
       "      <td>26.0</td>\n",
       "    </tr>\n",
       "    <tr>\n",
       "      <th>...</th>\n",
       "      <td>...</td>\n",
       "      <td>...</td>\n",
       "      <td>...</td>\n",
       "      <td>...</td>\n",
       "    </tr>\n",
       "    <tr>\n",
       "      <th>17705</th>\n",
       "      <td>Private room</td>\n",
       "      <td>29</td>\n",
       "      <td>0.0</td>\n",
       "      <td>29.0</td>\n",
       "    </tr>\n",
       "    <tr>\n",
       "      <th>17706</th>\n",
       "      <td>Private room</td>\n",
       "      <td>29</td>\n",
       "      <td>0.0</td>\n",
       "      <td>29.0</td>\n",
       "    </tr>\n",
       "    <tr>\n",
       "      <th>17707</th>\n",
       "      <td>Private room</td>\n",
       "      <td>29</td>\n",
       "      <td>0.0</td>\n",
       "      <td>29.0</td>\n",
       "    </tr>\n",
       "    <tr>\n",
       "      <th>17708</th>\n",
       "      <td>Private room</td>\n",
       "      <td>29</td>\n",
       "      <td>0.0</td>\n",
       "      <td>29.0</td>\n",
       "    </tr>\n",
       "    <tr>\n",
       "      <th>17709</th>\n",
       "      <td>Private room</td>\n",
       "      <td>33</td>\n",
       "      <td>0.0</td>\n",
       "      <td>33.0</td>\n",
       "    </tr>\n",
       "  </tbody>\n",
       "</table>\n",
       "<p>17710 rows × 4 columns</p>\n",
       "</div>"
      ],
      "text/plain": [
       "             room_type  price  beds  total_price\n",
       "0         Private room     60   1.0         60.0\n",
       "1         Private room     31   1.0         31.0\n",
       "2      Entire home/apt     50   5.0         50.0\n",
       "3      Entire home/apt     92   1.0         92.0\n",
       "4         Private room     26   1.0         26.0\n",
       "...                ...    ...   ...          ...\n",
       "17705     Private room     29   0.0         29.0\n",
       "17706     Private room     29   0.0         29.0\n",
       "17707     Private room     29   0.0         29.0\n",
       "17708     Private room     29   0.0         29.0\n",
       "17709     Private room     33   0.0         33.0\n",
       "\n",
       "[17710 rows x 4 columns]"
      ]
     },
     "execution_count": 7,
     "metadata": {},
     "output_type": "execute_result"
    }
   ],
   "source": [
    "df[['room_type', 'price', 'beds', 'total_price']]"
   ]
  },
  {
   "cell_type": "markdown",
   "id": "b8d5eb60",
   "metadata": {},
   "source": [
    "**Now let's go to occupancy**.\n",
    "\n",
    "The variable we have that allows us to measure this is availability_365.\n",
    "\n",
    "This variable tells us the number of days a year ahead that the property is NOT occupied.\n",
    "\n",
    "Therefore we would be interested in transforming it to a more direct measure of occupancy, for example the % of the year that it IS occupied.\n",
    "\n",
    "We can do this with a direct transformation."
   ]
  },
  {
   "cell_type": "code",
   "execution_count": 8,
   "id": "99b05f9b",
   "metadata": {},
   "outputs": [
    {
     "data": {
      "text/plain": [
       "0    180\n",
       "1    364\n",
       "2    222\n",
       "3    115\n",
       "4    349\n",
       "Name: availability_365, dtype: int64"
      ]
     },
     "execution_count": 8,
     "metadata": {},
     "output_type": "execute_result"
    }
   ],
   "source": [
    "df['availability_365'].head()\n",
    "#this is the time that the flat is free in the year"
   ]
  },
  {
   "cell_type": "code",
   "execution_count": 9,
   "id": "2f46d1eb",
   "metadata": {
    "scrolled": true
   },
   "outputs": [
    {
     "data": {
      "text/html": [
       "<div>\n",
       "<style scoped>\n",
       "    .dataframe tbody tr th:only-of-type {\n",
       "        vertical-align: middle;\n",
       "    }\n",
       "\n",
       "    .dataframe tbody tr th {\n",
       "        vertical-align: top;\n",
       "    }\n",
       "\n",
       "    .dataframe thead th {\n",
       "        text-align: right;\n",
       "    }\n",
       "</style>\n",
       "<table border=\"1\" class=\"dataframe\">\n",
       "  <thead>\n",
       "    <tr style=\"text-align: right;\">\n",
       "      <th></th>\n",
       "      <th>occupancy</th>\n",
       "      <th>availability_365</th>\n",
       "    </tr>\n",
       "  </thead>\n",
       "  <tbody>\n",
       "    <tr>\n",
       "      <th>0</th>\n",
       "      <td>50</td>\n",
       "      <td>180</td>\n",
       "    </tr>\n",
       "    <tr>\n",
       "      <th>1</th>\n",
       "      <td>0</td>\n",
       "      <td>364</td>\n",
       "    </tr>\n",
       "    <tr>\n",
       "      <th>2</th>\n",
       "      <td>39</td>\n",
       "      <td>222</td>\n",
       "    </tr>\n",
       "    <tr>\n",
       "      <th>3</th>\n",
       "      <td>68</td>\n",
       "      <td>115</td>\n",
       "    </tr>\n",
       "    <tr>\n",
       "      <th>4</th>\n",
       "      <td>4</td>\n",
       "      <td>349</td>\n",
       "    </tr>\n",
       "    <tr>\n",
       "      <th>...</th>\n",
       "      <td>...</td>\n",
       "      <td>...</td>\n",
       "    </tr>\n",
       "    <tr>\n",
       "      <th>17705</th>\n",
       "      <td>1</td>\n",
       "      <td>358</td>\n",
       "    </tr>\n",
       "    <tr>\n",
       "      <th>17706</th>\n",
       "      <td>1</td>\n",
       "      <td>358</td>\n",
       "    </tr>\n",
       "    <tr>\n",
       "      <th>17707</th>\n",
       "      <td>1</td>\n",
       "      <td>358</td>\n",
       "    </tr>\n",
       "    <tr>\n",
       "      <th>17708</th>\n",
       "      <td>1</td>\n",
       "      <td>358</td>\n",
       "    </tr>\n",
       "    <tr>\n",
       "      <th>17709</th>\n",
       "      <td>1</td>\n",
       "      <td>358</td>\n",
       "    </tr>\n",
       "  </tbody>\n",
       "</table>\n",
       "<p>17710 rows × 2 columns</p>\n",
       "</div>"
      ],
      "text/plain": [
       "       occupancy  availability_365\n",
       "0             50               180\n",
       "1              0               364\n",
       "2             39               222\n",
       "3             68               115\n",
       "4              4               349\n",
       "...          ...               ...\n",
       "17705          1               358\n",
       "17706          1               358\n",
       "17707          1               358\n",
       "17708          1               358\n",
       "17709          1               358\n",
       "\n",
       "[17710 rows x 2 columns]"
      ]
     },
     "execution_count": 9,
     "metadata": {},
     "output_type": "execute_result"
    }
   ],
   "source": [
    "df['occupancy'] = (((365 - df['availability_365'])/ 365) * 100).astype('int64')\n",
    "df[['occupancy', 'availability_365']]"
   ]
  },
  {
   "cell_type": "markdown",
   "id": "1832243d",
   "metadata": {},
   "source": [
    "### Transformation of analysis variables"
   ]
  },
  {
   "cell_type": "markdown",
   "id": "dabe89b2",
   "metadata": {},
   "source": [
    "Some of the seed questions are aimed at checking how price or occupancy behaves according to other variables such as the number of rooms, the average number of ratings, etc.\n",
    "\n",
    "We can usually do these analyses better if we discretize the analysis variable.\n",
    "\n",
    "In our case the candidates for this analysis are: accommodates, bedrooms, beds and number_of_reviews.\n",
    "\n",
    "In bedrooms a more personalized discretization makes sense. In the others we can do it automatically."
   ]
  },
  {
   "cell_type": "markdown",
   "id": "f3d3514a",
   "metadata": {},
   "source": [
    "**Discretize bedrooms**\n",
    "\n",
    "We begin by evaluating the distribution of the data."
   ]
  },
  {
   "cell_type": "code",
   "execution_count": 10,
   "id": "73a15552",
   "metadata": {
    "scrolled": false
   },
   "outputs": [
    {
     "data": {
      "image/png": "[encoded data removed]",
      "text/plain": [
       "<Figure size 432x288 with 1 Axes>"
      ]
     },
     "metadata": {
      "needs_background": "light"
     },
     "output_type": "display_data"
    }
   ],
   "source": [
    "df['bedrooms'].value_counts().plot.bar();"
   ]
  },
  {
   "cell_type": "code",
   "execution_count": 11,
   "id": "d2e4bc41",
   "metadata": {},
   "outputs": [],
   "source": [
    "conditions = [df['bedrooms'] == 1, \n",
    "              df['bedrooms'] == 2,\n",
    "              df['bedrooms'] == 3,\n",
    "              df['bedrooms'] > 3]\n",
    "outputs = ['1_one', '2_two', '3_three', '4_four']\n",
    "df['bedrooms_discrete'] = np.select(conditions, outputs, default = -999)\n"
   ]
  },
  {
   "cell_type": "code",
   "execution_count": 12,
   "id": "3f47df33",
   "metadata": {},
   "outputs": [
    {
     "name": "stdout",
     "output_type": "stream",
     "text": [
      "<class 'pandas.core.frame.DataFrame'>\n",
      "RangeIndex: 17710 entries, 0 to 17709\n",
      "Data columns (total 27 columns):\n",
      " #   Column                          Non-Null Count  Dtype  \n",
      "---  ------                          --------------  -----  \n",
      " 0   index                           17710 non-null  int64  \n",
      " 1   id                              17710 non-null  int64  \n",
      " 2   name                            17707 non-null  object \n",
      " 3   host_id                         17710 non-null  int64  \n",
      " 4   neighbourhood_group             17710 non-null  object \n",
      " 5   neighbourhood                   17710 non-null  object \n",
      " 6   latitude                        17710 non-null  float64\n",
      " 7   longitude                       17710 non-null  float64\n",
      " 8   room_type                       17710 non-null  object \n",
      " 9   price                           17710 non-null  int64  \n",
      " 10  minimum_nights                  17710 non-null  int64  \n",
      " 11  calculated_host_listings_count  17710 non-null  int64  \n",
      " 12  availability_365                17710 non-null  int64  \n",
      " 13  description                     16766 non-null  object \n",
      " 14  host_is_superhost               17685 non-null  object \n",
      " 15  accommodates                    17710 non-null  int64  \n",
      " 16  bedrooms                        17710 non-null  float64\n",
      " 17  beds                            17710 non-null  float64\n",
      " 18  number_of_reviews               17710 non-null  int64  \n",
      " 19  review_scores_rating            13084 non-null  float64\n",
      " 20  review_scores_communication     12863 non-null  float64\n",
      " 21  review_scores_location          12860 non-null  float64\n",
      " 22  precio_m2                       17710 non-null  int64  \n",
      " 23  distrito                        17710 non-null  object \n",
      " 24  total_price                     17710 non-null  float64\n",
      " 25  occupancy                       17710 non-null  int64  \n",
      " 26  bedrooms_discrete               17710 non-null  object \n",
      "dtypes: float64(8), int64(11), object(8)\n",
      "memory usage: 3.6+ MB\n"
     ]
    }
   ],
   "source": [
    "df.info()"
   ]
  },
  {
   "cell_type": "code",
   "execution_count": 13,
   "id": "5a143abf",
   "metadata": {
    "scrolled": true
   },
   "outputs": [
    {
     "data": {
      "text/plain": [
       "1_one      12422\n",
       "2_two       3617\n",
       "3_three     1228\n",
       "4_four       443\n",
       "Name: bedrooms_discrete, dtype: int64"
      ]
     },
     "execution_count": 13,
     "metadata": {},
     "output_type": "execute_result"
    }
   ],
   "source": [
    "df['bedrooms_discrete'].value_counts()"
   ]
  },
  {
   "cell_type": "markdown",
   "id": "d77715e2",
   "metadata": {},
   "source": [
    "**Discretize accommodates, beds and number_of_reviews**.\n",
    "\n",
    "Let's use qcut to discretize with percentiles 0.5, 0.8, 1"
   ]
  },
  {
   "cell_type": "code",
   "execution_count": 14,
   "id": "f0d74fc9",
   "metadata": {},
   "outputs": [
    {
     "data": {
      "image/png": "[encoded data removed]",
      "text/plain": [
       "<Figure size 432x288 with 1 Axes>"
      ]
     },
     "metadata": {
      "needs_background": "light"
     },
     "output_type": "display_data"
    }
   ],
   "source": [
    "df['accommodates'].value_counts().plot.bar();"
   ]
  },
  {
   "cell_type": "code",
   "execution_count": 15,
   "id": "0b8b307a",
   "metadata": {},
   "outputs": [],
   "source": [
    "df['accommodates_discrete'] = pd.qcut(df['accommodates'], [0,0.5,0.8, 1], labels = ['0 - 2', '3', '4 - 16'])"
   ]
  },
  {
   "cell_type": "code",
   "execution_count": 16,
   "id": "7e7e7e5c",
   "metadata": {},
   "outputs": [
    {
     "data": {
      "image/png": "[encoded data removed]",
      "text/plain": [
       "<Figure size 432x288 with 1 Axes>"
      ]
     },
     "metadata": {
      "needs_background": "light"
     },
     "output_type": "display_data"
    }
   ],
   "source": [
    "df['accommodates_discrete'].value_counts(ascending = True).plot.barh();"
   ]
  },
  {
   "cell_type": "code",
   "execution_count": 17,
   "id": "a0393d6f",
   "metadata": {},
   "outputs": [],
   "source": [
    "df['beds_discrete'] = pd.qcut(df['beds'], [0,0.5,0.8, 1], labels = ['1', '2', '3 - 23'])"
   ]
  },
  {
   "cell_type": "code",
   "execution_count": 18,
   "id": "b8d91dd1",
   "metadata": {},
   "outputs": [
    {
     "data": {
      "image/png": "[encoded data removed]",
      "text/plain": [
       "<Figure size 432x288 with 1 Axes>"
      ]
     },
     "metadata": {
      "needs_background": "light"
     },
     "output_type": "display_data"
    }
   ],
   "source": [
    "df['beds_discrete'].value_counts(ascending = True).plot.barh();"
   ]
  },
  {
   "cell_type": "code",
   "execution_count": 19,
   "id": "ce65d824",
   "metadata": {
    "scrolled": true
   },
   "outputs": [
    {
     "data": {
      "image/png": "[encoded data removed]",
      "text/plain": [
       "<Figure size 432x288 with 1 Axes>"
      ]
     },
     "metadata": {
      "needs_background": "light"
     },
     "output_type": "display_data"
    }
   ],
   "source": [
    "df['number_of_reviews_discrete'] = pd.qcut(df.number_of_reviews,[0, 0.5, 0.8, 1],\n",
    "                                      labels = ['1-4','5-48','48-744'])\n",
    "\n",
    "df['number_of_reviews_discrete'].value_counts().sort_index(ascending = False).plot.barh();"
   ]
  },
  {
   "cell_type": "markdown",
   "id": "5bf1934b",
   "metadata": {},
   "source": [
    "### Creation of variables with external data"
   ]
  },
  {
   "cell_type": "markdown",
   "id": "d60a2202",
   "metadata": {},
   "source": [
    "In this particular case many things could be done with external data.\n",
    "\n",
    "The first thing, which we have already partially incorporated, is the leverage of the price of the property.\n",
    "\n",
    "We said that we could estimate it by multiplying the square meters of the property by the price per m2.\n",
    "\n",
    "We have already got the price_sqm, but the size of the property is not in the data.\n",
    "\n",
    "What we can do is to establish some criteria based on the number of rooms.\n",
    "\n",
    "It is not perfect, but it will serve as an approximation."
   ]
  },
  {
   "cell_type": "markdown",
   "id": "7056693a",
   "metadata": {},
   "source": [
    "Estimation of the square meters of the property** **Estimate of the square meters of the property**.\n",
    "\n",
    "Let's use the following approximation:\n",
    "\n",
    "* A one-room apartment: m2 = 50\n",
    "* A two-bedroom apartment: m2 = 70\n",
    "* A three-room apartment: m2 = 90\n",
    "* An apartment with four rooms: m2 = 120\n",
    "* An apartment with five or more rooms: m2 = 150"
   ]
  },
  {
   "cell_type": "code",
   "execution_count": 20,
   "id": "213f75cd",
   "metadata": {},
   "outputs": [],
   "source": [
    "conditions = [df['bedrooms'] == 1,\n",
    "              df['bedrooms'] == 2,\n",
    "              df['bedrooms'] == 3,\n",
    "              df['bedrooms'] == 4,\n",
    "              df['bedrooms'] >= 5]\n",
    "outputs = [50,70,90,120,150]\n",
    "\n",
    "df['m2'] = np.select(conditions, outputs, default = -999)"
   ]
  },
  {
   "cell_type": "code",
   "execution_count": 76,
   "id": "f72572bb",
   "metadata": {},
   "outputs": [
    {
     "data": {
      "text/plain": [
       "50     12422\n",
       "70      3617\n",
       "90      1228\n",
       "120      296\n",
       "150      147\n",
       "Name: m2, dtype: int64"
      ]
     },
     "execution_count": 76,
     "metadata": {},
     "output_type": "execute_result"
    }
   ],
   "source": [
    "df['m2'].value_counts()"
   ]
  },
  {
   "cell_type": "markdown",
   "id": "eba6fed8",
   "metadata": {},
   "source": [
    "Now we can estimate the purchase price of the property.\n",
    "\n",
    "We remember that the price we get is reduced by 30% for bargaining power."
   ]
  },
  {
   "cell_type": "code",
   "execution_count": 21,
   "id": "3c704cc7",
   "metadata": {},
   "outputs": [],
   "source": [
    "df['purchase_price'] = df['m2'] * df ['precio_m2'] * 0.7"
   ]
  },
  {
   "cell_type": "code",
   "execution_count": 22,
   "id": "eed93208",
   "metadata": {
    "scrolled": true
   },
   "outputs": [
    {
     "data": {
      "text/html": [
       "<div>\n",
       "<style scoped>\n",
       "    .dataframe tbody tr th:only-of-type {\n",
       "        vertical-align: middle;\n",
       "    }\n",
       "\n",
       "    .dataframe tbody tr th {\n",
       "        vertical-align: top;\n",
       "    }\n",
       "\n",
       "    .dataframe thead th {\n",
       "        text-align: right;\n",
       "    }\n",
       "</style>\n",
       "<table border=\"1\" class=\"dataframe\">\n",
       "  <thead>\n",
       "    <tr style=\"text-align: right;\">\n",
       "      <th></th>\n",
       "      <th>bedrooms</th>\n",
       "      <th>m2</th>\n",
       "      <th>distrito</th>\n",
       "      <th>precio_m2</th>\n",
       "      <th>purchase_price</th>\n",
       "    </tr>\n",
       "  </thead>\n",
       "  <tbody>\n",
       "    <tr>\n",
       "      <th>0</th>\n",
       "      <td>1.0</td>\n",
       "      <td>50</td>\n",
       "      <td>Chamartín</td>\n",
       "      <td>5098</td>\n",
       "      <td>178430.0</td>\n",
       "    </tr>\n",
       "    <tr>\n",
       "      <th>1</th>\n",
       "      <td>1.0</td>\n",
       "      <td>50</td>\n",
       "      <td>Latina</td>\n",
       "      <td>2267</td>\n",
       "      <td>79345.0</td>\n",
       "    </tr>\n",
       "    <tr>\n",
       "      <th>2</th>\n",
       "      <td>3.0</td>\n",
       "      <td>90</td>\n",
       "      <td>Arganzuela</td>\n",
       "      <td>4085</td>\n",
       "      <td>257355.0</td>\n",
       "    </tr>\n",
       "    <tr>\n",
       "      <th>3</th>\n",
       "      <td>1.0</td>\n",
       "      <td>50</td>\n",
       "      <td>Centro</td>\n",
       "      <td>4827</td>\n",
       "      <td>168945.0</td>\n",
       "    </tr>\n",
       "    <tr>\n",
       "      <th>4</th>\n",
       "      <td>1.0</td>\n",
       "      <td>50</td>\n",
       "      <td>Arganzuela</td>\n",
       "      <td>4085</td>\n",
       "      <td>142975.0</td>\n",
       "    </tr>\n",
       "    <tr>\n",
       "      <th>...</th>\n",
       "      <td>...</td>\n",
       "      <td>...</td>\n",
       "      <td>...</td>\n",
       "      <td>...</td>\n",
       "      <td>...</td>\n",
       "    </tr>\n",
       "    <tr>\n",
       "      <th>17705</th>\n",
       "      <td>1.0</td>\n",
       "      <td>50</td>\n",
       "      <td>Centro</td>\n",
       "      <td>4827</td>\n",
       "      <td>168945.0</td>\n",
       "    </tr>\n",
       "    <tr>\n",
       "      <th>17706</th>\n",
       "      <td>1.0</td>\n",
       "      <td>50</td>\n",
       "      <td>Centro</td>\n",
       "      <td>4827</td>\n",
       "      <td>168945.0</td>\n",
       "    </tr>\n",
       "    <tr>\n",
       "      <th>17707</th>\n",
       "      <td>1.0</td>\n",
       "      <td>50</td>\n",
       "      <td>Centro</td>\n",
       "      <td>4827</td>\n",
       "      <td>168945.0</td>\n",
       "    </tr>\n",
       "    <tr>\n",
       "      <th>17708</th>\n",
       "      <td>1.0</td>\n",
       "      <td>50</td>\n",
       "      <td>Salamanca</td>\n",
       "      <td>6114</td>\n",
       "      <td>213990.0</td>\n",
       "    </tr>\n",
       "    <tr>\n",
       "      <th>17709</th>\n",
       "      <td>1.0</td>\n",
       "      <td>50</td>\n",
       "      <td>Centro</td>\n",
       "      <td>4827</td>\n",
       "      <td>168945.0</td>\n",
       "    </tr>\n",
       "  </tbody>\n",
       "</table>\n",
       "<p>17710 rows × 5 columns</p>\n",
       "</div>"
      ],
      "text/plain": [
       "       bedrooms  m2    distrito  precio_m2  purchase_price\n",
       "0           1.0  50   Chamartín       5098        178430.0\n",
       "1           1.0  50      Latina       2267         79345.0\n",
       "2           3.0  90  Arganzuela       4085        257355.0\n",
       "3           1.0  50      Centro       4827        168945.0\n",
       "4           1.0  50  Arganzuela       4085        142975.0\n",
       "...         ...  ..         ...        ...             ...\n",
       "17705       1.0  50      Centro       4827        168945.0\n",
       "17706       1.0  50      Centro       4827        168945.0\n",
       "17707       1.0  50      Centro       4827        168945.0\n",
       "17708       1.0  50   Salamanca       6114        213990.0\n",
       "17709       1.0  50      Centro       4827        168945.0\n",
       "\n",
       "[17710 rows x 5 columns]"
      ]
     },
     "execution_count": 22,
     "metadata": {},
     "output_type": "execute_result"
    }
   ],
   "source": [
    "df[['bedrooms', 'm2', 'distrito', 'precio_m2', 'purchase_price' ]]"
   ]
  },
  {
   "cell_type": "markdown",
   "id": "1b1a555f",
   "metadata": {},
   "source": [
    "Taking into account that in tourism the location is very important, we are going to calculate the distance of the different properties to one of the most important touristic points of Madrid, the Puerta del Sol.\n",
    "\n",
    "This analysis could be done with more points of interest, taking into account that we have the x,y coordinates, but in this project we will only take into account the distance to the Puerta del Sol.\n",
    "\n",
    "To do this we search in Google its longitude and latitude: https://www.123coordenadas.com/coordinates/81497-puerta-del-sol-madrid\n",
    "\n",
    "Latitude: 40.4167278\n",
    "Longitude: -3.7033387"
   ]
  },
  {
   "cell_type": "markdown",
   "id": "54271007",
   "metadata": {},
   "source": [
    "**Calculation of the distance from each property to the Puerta del Sol**.\n",
    "\n",
    "Given the curvature of the earth the distance between two points from their latitude and longitude is calculated with a formula called Haversine distance.\n",
    "\n",
    "A Google search gives us an already built function to calculate it that we can adapt: https://stackoverflow.com/questions/4913349/haversine-formula-in-python-bearing-and-distance-between-two-gps-points"
   ]
  },
  {
   "cell_type": "code",
   "execution_count": 29,
   "id": "ae16a83d",
   "metadata": {},
   "outputs": [],
   "source": [
    "from math import radians, cos, sin, asin, sqrt\n",
    "\n",
    "def haversine(lat1, lon1, lat2, lon2):\n",
    "    \n",
    "    #This function returns the distance taking into account the curvature of the earth\n",
    "\n",
    "      R = 6372.8 #En km, si usas millas tienes que cambiarlo por 3959.87433\n",
    "\n",
    "      dLat = radians(lat2 - lat1)\n",
    "      dLon = radians(lon2 - lon1)\n",
    "      lat1 = radians(lat1)\n",
    "      lat2 = radians(lat2)\n",
    "\n",
    "      a = sin(dLat/2)**2 + cos(lat1)*cos(lat2)*sin(dLon/2)**2\n",
    "      c = 2*asin(sqrt(a))\n",
    "\n",
    "      return R * c\n"
   ]
  },
  {
   "cell_type": "markdown",
   "id": "bcb427a3",
   "metadata": {},
   "source": [
    "We create the variable"
   ]
  },
  {
   "cell_type": "code",
   "execution_count": 31,
   "id": "937177ed",
   "metadata": {},
   "outputs": [],
   "source": [
    "lat1 = 40.4167278\n",
    "lon1 = -3.7033387\n",
    "\n",
    "df['pdi_sol'] = df.apply(lambda register: haversine(lat1,lon1, register['latitude'], register['longitude']), axis = 1)"
   ]
  },
  {
   "cell_type": "markdown",
   "id": "ed96230c",
   "metadata": {},
   "source": [
    "We checked by reviewing the average distance by districts."
   ]
  },
  {
   "cell_type": "code",
   "execution_count": 34,
   "id": "ef46c7e0",
   "metadata": {},
   "outputs": [
    {
     "data": {
      "text/plain": [
       "distrito\n",
       "Centro                    0.730611\n",
       "Arganzuela                1.939114\n",
       "Chamberí                  2.133167\n",
       "Retiro                    2.450593\n",
       "Salamanca                 2.715975\n",
       "Moncloa - Aravaca         3.294526\n",
       "Usera                     3.928874\n",
       "Latina                    3.942634\n",
       "Carabanchel               3.970238\n",
       "Chamartín                 4.432842\n",
       "Puente de Vallecas        4.481127\n",
       "Tetuán                    4.624605\n",
       "Moratalaz                 5.073901\n",
       "Ciudad Lineal             5.231293\n",
       "Villaverde                7.664192\n",
       "Fuencarral - El Pardo     8.062301\n",
       "Hortaleza                 8.074184\n",
       "San Blas - Canillejas     8.199011\n",
       "Vicálvaro                 8.599559\n",
       "Villa de Vallecas         9.176618\n",
       "Barajas                  11.439064\n",
       "Name: pdi_sol, dtype: float64"
      ]
     },
     "execution_count": 34,
     "metadata": {},
     "output_type": "execute_result"
    }
   ],
   "source": [
    "df.groupby('distrito')['pdi_sol'].mean().sort_values(Comprobamos revisando la distancia media por distritos.)"
   ]
  },
  {
   "cell_type": "markdown",
   "id": "81969db0",
   "metadata": {},
   "source": [
    "## WE SAVE THE DATAMART"
   ]
  },
  {
   "cell_type": "markdown",
   "id": "0616fce6",
   "metadata": {},
   "source": [
    "We are going to save this version as df_prepared"
   ]
  },
  {
   "cell_type": "code",
   "execution_count": 35,
   "id": "523be5cd",
   "metadata": {},
   "outputs": [],
   "source": [
    "df.to_sql('df_ready', con = con, if_exists = 'replace')"
   ]
  }
 ],
 "metadata": {
  "kernelspec": {
   "display_name": "Python 3 (ipykernel)",
   "language": "python",
   "name": "python3"
  },
  "language_info": {
   "codemirror_mode": {
    "name": "ipython",
    "version": 3
   },
   "file_extension": ".py",
   "mimetype": "text/x-python",
   "name": "python",
   "nbconvert_exporter": "python",
   "pygments_lexer": "ipython3",
   "version": "3.9.5"
  },
  "toc": {
   "base_numbering": 1,
   "nav_menu": {},
   "number_sections": true,
   "sideBar": true,
   "skip_h1_title": false,
   "title_cell": "Table of Contents",
   "title_sidebar": "Contents",
   "toc_cell": true,
   "toc_position": {},
   "toc_section_display": true,
   "toc_window_display": false
  },
  "varInspector": {
   "cols": {
    "lenName": 16,
    "lenType": 16,
    "lenVar": 40
   },
   "kernels_config": {
    "python": {
     "delete_cmd_postfix": "",
     "delete_cmd_prefix": "del ",
     "library": "var_list.py",
     "varRefreshCmd": "print(var_dic_list())"
    },
    "r": {
     "delete_cmd_postfix": ") ",
     "delete_cmd_prefix": "rm(",
     "library": "var_list.r",
     "varRefreshCmd": "cat(var_dic_list()) "
    }
   },
   "types_to_exclude": [
    "module",
    "function",
    "builtin_function_or_method",
    "instance",
    "_Feature"
   ],
   "window_display": false
  }
 },
 "nbformat": 4,
 "nbformat_minor": 5
}
