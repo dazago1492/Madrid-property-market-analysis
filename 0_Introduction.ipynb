{
 "cells": [
  {
   "cell_type": "markdown",
   "id": "bb7b82c9",
   "metadata": {
    "toc": true
   },
   "source": [
    "<h1>Table of Contents<span class=\"tocSkip\"></span></h1>\n",
    "<div class=\"toc\"><ul class=\"toc-item\"><li><span><a href=\"#Proyect---Problem\" data-toc-modified-id=\"Proyect---Problem-1\"><span class=\"toc-item-num\">1&nbsp;&nbsp;</span>Proyect - Problem</a></span><ul class=\"toc-item\"><li><span><a href=\"#Objective-of-the-proyect\" data-toc-modified-id=\"Objective-of-the-proyect-1.1\"><span class=\"toc-item-num\">1.1&nbsp;&nbsp;</span>Objective of the proyect</a></span></li><li><span><a href=\"#Business-levers\" data-toc-modified-id=\"Business-levers-1.2\"><span class=\"toc-item-num\">1.2&nbsp;&nbsp;</span>Business levers</a></span></li><li><span><a href=\"#KPIs\" data-toc-modified-id=\"KPIs-1.3\"><span class=\"toc-item-num\">1.3&nbsp;&nbsp;</span>KPIs</a></span></li><li><span><a href=\"#Entities-and-data\" data-toc-modified-id=\"Entities-and-data-1.4\"><span class=\"toc-item-num\">1.4&nbsp;&nbsp;</span>Entities and data</a></span></li><li><span><a href=\"#Seed-questions\" data-toc-modified-id=\"Seed-questions-1.5\"><span class=\"toc-item-num\">1.5&nbsp;&nbsp;</span>Seed questions</a></span></li></ul></li><li><span><a href=\"#Used-data\" data-toc-modified-id=\"Used-data-2\"><span class=\"toc-item-num\">2&nbsp;&nbsp;</span>Used data</a></span></li></ul></div>"
   ]
  },
  {
   "cell_type": "markdown",
   "id": "0e395b88",
   "metadata": {},
   "source": [
    "# Project - Problem\n",
    "\n",
    "This case study is a simulation of the activity performed by a Real Estate company that invests in big cities, with the objective of buying properties that are subsequently rented as tourist apartments. The manager has decided to invest in Madrid, and has commissioned us to analyse the data that the leader company AirBnb makes available to the general public, with the aim to find the types of properties that have the greatest commercial potential for tourist rental.\n",
    "\n",
    "The expected final outcome requested by the company is the typology of properties that the valuation team should look for among the existing opportunities in the city, and the main neighbourhoods or geographic areas to focus on.\n",
    "\n",
    "**The main deliverable is the typology (or typologies) of properties that the valuation team should look for among the existing opportunities in the city and the main neighborhoods or geographic areas to focus on.**"
   ]
  },
  {
   "cell_type": "markdown",
   "id": "b60e866e",
   "metadata": {},
   "source": [
    "## Objective of the proyect\n",
    "\n",
    "\n",
    "- Locate the profile (or profiles) of properties that maximize the commercial potential in the tourist rental market and the main areas where to look for them."
   ]
  },
  {
   "cell_type": "markdown",
   "id": "66711e83",
   "metadata": {},
   "source": [
    "## Business levers\n",
    "\n",
    "After talking with the valuation team, we identified the business levers that had the greatest impact on profitability in this type of investment:\n",
    "\n",
    "* **Rental price**: the more you can charge per night, the higher the profitability\n",
    "\n",
    "* **Occupation**: In general, the more days a year the property can be rented, the higher the profitability.\n",
    "\n",
    "* **Property price**: the cheaper the property can be acquired, the greater the profitability\n",
    "\n",
    "*DISCALIMER: These business levers are personal assumptions that I took to develop this project, due to my null experience in the real estate market. In a real case to identify the real business levers we need the support of a group of experts or an expert who knows the business very well.\n",
    "\n"
   ]
  },
  {
   "cell_type": "markdown",
   "id": "6fb6b88c",
   "metadata": {},
   "source": [
    "## KPIs\n",
    "\n",
    "For this proyect the KPIs are very direct:\n",
    "\n",
    "* We will measure occupancy as the number of days per year that the property is available for rental.\n",
    "\n",
    "* We will measure the rental price as the price in euros per night according to Airbnb.\n",
    "\n",
    "* We will measure the price of a property as the multiplication between the number of square meters and the average price per square meter in the specific zone, and we will apply a 25% discount on the official price by the negotiating strength of our purchasing team.\n",
    "\n",
    "*DISCLAIMER: The percentage discount that our purchasing team may be able to achieve is another assumption made for the development of the project.*"
   ]
  },
  {
   "cell_type": "markdown",
   "id": "43bda11d",
   "metadata": {},
   "source": [
    "## Entities and data\n",
    "\n",
    "The entities relevant to our objective and for which data are available are:\n",
    "\n",
    "* Properties\n",
    "* Districts"
   ]
  },
  {
   "cell_type": "markdown",
   "id": "784ac333",
   "metadata": {},
   "source": [
    "## Seed questions\n",
    "\n",
    "In order to start a targeted analysis of the data we have, we ask a series of questions that revolve around each of the business levers identified:\n",
    "\n",
    "On the rental price:\n",
    "\n",
    "* What is the average price, and the price range, and by districts, and by neighborhoods?\n",
    "* What is the ranking of districts and neighborhoods by average rental price?\n",
    "* What factors (apart from location) determine the rental price?\n",
    "* What is the relationship between the size of the property and the price at which it can be rented?\n",
    "* How does competition (number of available properties per neighborhood) influence the rental price?\n",
    "* How do prices vary by type of rental (whole apartment, private room, shared room)?\n",
    "\n",
    "\n",
    "On occupancy:\n",
    "\n",
    "* What is the average occupancy, and by district, and by neighborhood?\n",
    "* How likely is each occupancy level in each district?\n",
    "* What is the ranking of districts and neighborhoods by occupancy?\n",
    "* What factors (other than location) determine occupancy?\n",
    "* What is the relationship between the size of the property and its occupancy rate?\n",
    "* How does competition (number of available properties per neighborhood) influence occupancy?\n",
    "\n",
    "On the purchase price:\n",
    "\n",
    "* What is the ranking of price per m2 per district?\n",
    "* What is the ranking of property price (m2 * average size) per district?\n",
    "* What is the relationship between the price of the property and the rental price per district?\n",
    "* What is the relationship between property price and occupancy per district?\n",
    "\n"
   ]
  },
  {
   "cell_type": "markdown",
   "id": "120989da",
   "metadata": {},
   "source": [
    "# Used data\n",
    "\n",
    "We will use real data provided by AirBnB on this page: http://insideairbnb.com/get-the-data.html , specifically for the city of Madrid.\n",
    "\n",
    "Downloaded files as of date (10/September/2021)\n",
    "\n",
    "* listings.csv: Summary information and metrics for listings in Madrid (good for visualisations).\n",
    "* listings.csv.gz: Detailed Listings data for Madrid.\n",
    "\n",
    "**These two files were downloaded and saved in a sqlite database (airbnb.db)** ."
   ]
  }
 ],
 "metadata": {
  "kernelspec": {
   "display_name": "Python 3 (ipykernel)",
   "language": "python",
   "name": "python3"
  },
  "language_info": {
   "codemirror_mode": {
    "name": "ipython",
    "version": 3
   },
   "file_extension": ".py",
   "mimetype": "text/x-python",
   "name": "python",
   "nbconvert_exporter": "python",
   "pygments_lexer": "ipython3",
   "version": "3.9.5"
  },
  "toc": {
   "base_numbering": 1,
   "nav_menu": {},
   "number_sections": true,
   "sideBar": true,
   "skip_h1_title": false,
   "title_cell": "Table of Contents",
   "title_sidebar": "Contents",
   "toc_cell": true,
   "toc_position": {},
   "toc_section_display": true,
   "toc_window_display": false
  },
  "varInspector": {
   "cols": {
    "lenName": 16,
    "lenType": 16,
    "lenVar": 40
   },
   "kernels_config": {
    "python": {
     "delete_cmd_postfix": "",
     "delete_cmd_prefix": "del ",
     "library": "var_list.py",
     "varRefreshCmd": "print(var_dic_list())"
    },
    "r": {
     "delete_cmd_postfix": ") ",
     "delete_cmd_prefix": "rm(",
     "library": "var_list.r",
     "varRefreshCmd": "cat(var_dic_list()) "
    }
   },
   "types_to_exclude": [
    "module",
    "function",
    "builtin_function_or_method",
    "instance",
    "_Feature"
   ],
   "window_display": false
  }
 },
 "nbformat": 4,
 "nbformat_minor": 5
}
